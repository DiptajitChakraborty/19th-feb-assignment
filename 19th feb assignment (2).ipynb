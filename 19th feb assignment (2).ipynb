{
 "cells": [
  {
   "cell_type": "code",
   "execution_count": 10,
   "id": "78ff4103-430b-4b61-b523-1c91b1552816",
   "metadata": {},
   "outputs": [],
   "source": [
    "#Q1\n",
    "#Ans:\n",
    "#Flask is a web framework, it’s a Python module that lets you develop web applications easily. It’s has a small and easy-to-extend core: it’s a microframework that doesn’t include an ORM (Object Relational Manager) or such features.It does have many cool features like url routing, template engine. It is a WSGI web app framework.\n",
    "\n",
    "#Advantages of flasks are :\n",
    "# 1.Flask is scalable.\n",
    "# 2.Flask is flexible.\n",
    "# 3.Flask is easy to negotiate.\n",
    "# 4.Flask is lightweight.\n",
    "# 5.Flask helps us for nice documentation."
   ]
  },
  {
   "cell_type": "code",
   "execution_count": 11,
   "id": "021f36c5-cad7-4e15-93b2-49d5a548884b",
   "metadata": {},
   "outputs": [],
   "source": [
    "#Q2\n",
    "#The code will be \n",
    "# from flask import Flask\n",
    "# from flask import request\n",
    "\n",
    "# app = Flask(__name__)\n",
    "\n",
    "# @app.route(\"/\")\n",
    "# def hello_world():\n",
    "#     return \"Hello  World!!\"\n",
    "\n",
    "# if __name__==\"__main__\":\n",
    "#     app.run(host=\"0.0.0.0\")\n",
    "\n",
    "#The output will be = (\"https://orange-pharmacist-bekjw.pwskills.app/files/work/Screenshot%20(184).png?_xsrf=2%7C4006b666%7C84e293721255d5b6e65503926153d409%7C1680414063\")"
   ]
  },
  {
   "cell_type": "code",
   "execution_count": 12,
   "id": "74b8f889-534b-43ac-8b2c-6bf1c089d589",
   "metadata": {},
   "outputs": [],
   "source": [
    "#Q3\n",
    "#Ans:\n",
    "# App routing is the technique used to map the specific URL with the associated function intended to perform some task. The Latest Web frameworks use the routing technique to help users remember application URLs.\n",
    "#App routing is used to map the specific URL with the associated function that is intended to perform some task."
   ]
  },
  {
   "cell_type": "code",
   "execution_count": 13,
   "id": "1e757d88-6479-4b87-8513-d371b6705a55",
   "metadata": {},
   "outputs": [],
   "source": [
    "#Q4\n",
    "#Ans:\n",
    "#The outputs are /:\n",
    "#https://orange-pharmacist-bekjw.pwskills.app/files/work/Screenshot%20(185).png?_xsrf=2%7C4006b666%7C84e293721255d5b6e65503926153d409%7C1680414063\n",
    "#https://orange-pharmacist-bekjw.pwskills.app/files/work/Screenshot%20(187).png?_xsrf=2%7C4006b666%7C84e293721255d5b6e65503926153d409%7C1680414063"
   ]
  },
  {
   "cell_type": "code",
   "execution_count": 14,
   "id": "ee4ebfcb-d5c5-4d3d-b8da-4537490d20c4",
   "metadata": {},
   "outputs": [],
   "source": [
    "#Q5\n",
    "#Ans:\n",
    "#To build a URL to a specific function, use the url_for() function. It accepts the name of the function as its first argument and any number of keyword arguments, each corresponding to a variable part of the URL rule.\n",
    "\n",
    "# from flask import Flask,redirect,url_for\n",
    "\n",
    "# app=Flask(__name__)\n",
    "\n",
    "\n",
    "# @app.route('/success/<int:score>')\n",
    "# def success(score):\n",
    "#     return \"The person has passed and thr mark is \"+ str(score)\n",
    "\n",
    "\n",
    "# @app.route('/fail/<int:score>')\n",
    "# def fail(score):\n",
    "#     return \"The Person has failed and the marks is \"+ str(score)\n",
    "\n",
    "# @app.route('/results/<int:marks>')\n",
    "# def results(marks):\n",
    "#     result=\"\"\n",
    "#     if marks<50:\n",
    "#         result='fail'\n",
    "#     else:\n",
    "#         result='success'\n",
    "#     return redirect(url_for(result,score=marks))"
   ]
  },
  {
   "cell_type": "code",
   "execution_count": null,
   "id": "f87b2cde-fa30-4ce8-a2f5-5b2c5850910f",
   "metadata": {},
   "outputs": [],
   "source": []
  },
  {
   "cell_type": "code",
   "execution_count": null,
   "id": "ac9f1a00-7370-4340-873c-fe85f53ed7f1",
   "metadata": {},
   "outputs": [],
   "source": []
  }
 ],
 "metadata": {
  "kernelspec": {
   "display_name": "Python 3 (ipykernel)",
   "language": "python",
   "name": "python3"
  },
  "language_info": {
   "codemirror_mode": {
    "name": "ipython",
    "version": 3
   },
   "file_extension": ".py",
   "mimetype": "text/x-python",
   "name": "python",
   "nbconvert_exporter": "python",
   "pygments_lexer": "ipython3",
   "version": "3.10.8"
  }
 },
 "nbformat": 4,
 "nbformat_minor": 5
}
